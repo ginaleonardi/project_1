{
 "cells": [
  {
   "cell_type": "code",
   "execution_count": 14,
   "id": "3cb521c9",
   "metadata": {},
   "outputs": [],
   "source": [
    "import pandas as pd\n",
    "import os"
   ]
  },
  {
   "cell_type": "code",
   "execution_count": 15,
   "id": "33cdf872",
   "metadata": {},
   "outputs": [],
   "source": [
    "# Set file paths\n",
    "file_path1 = ('/Users/spicious/Documents/GitHub/tests/PUFs copy/pulse2022_puf_41.csv')\n",
    "file_path2 = ('/Users/spicious/Documents/GitHub/tests/PUFs copy/pulse2022_puf_42.csv')\n",
    "file_path3 = ('/Users/spicious/Documents/GitHub/tests/PUFs copy/pulse2022_puf_43.csv')\n",
    "file_path4 = ('/Users/spicious/Documents/GitHub/tests/PUFs copy/pulse2022_puf_44.csv')\n",
    "file_path5 = ('/Users/spicious/Documents/GitHub/tests/PUFs copy/pulse2022_puf_45.csv')\n",
    "file_path6 = ('/Users/spicious/Documents/GitHub/tests/PUFs copy/pulse2022_puf_46.csv')\n",
    "file_path7 = ('/Users/spicious/Documents/GitHub/tests/PUFs copy/pulse2022_puf_47.csv')\n",
    "file_path8 = ('/Users/spicious/Documents/GitHub/tests/PUFs copy/pulse2022_puf_48.csv')\n",
    "file_path9 = ('/Users/spicious/Documents/GitHub/tests/PUFs copy/pulse2022_puf_49.csv')\n",
    "file_path10 = ('/Users/spicious/Documents/GitHub/tests/PUFs copy/pulse2022_puf_50.csv')\n",
    "file_path11 = ('/Users/spicious/Documents/GitHub/tests/PUFs copy/pulse2022_puf_51.csv')\n",
    "file_path12 = ('/Users/spicious/Documents/GitHub/tests/PUFs copy/pulse2022_puf_52.csv')"
   ]
  },
  {
   "cell_type": "code",
   "execution_count": 16,
   "id": "339e9f87",
   "metadata": {},
   "outputs": [],
   "source": [
    "# Read CSV's\n",
    "week41 = pd.read_csv(file_path1)\n",
    "week42 = pd.read_csv(file_path2)\n",
    "week43 = pd.read_csv(file_path3)\n",
    "week44 = pd.read_csv(file_path4)\n",
    "week45 = pd.read_csv(file_path5)\n",
    "week46 = pd.read_csv(file_path6)\n",
    "week47 = pd.read_csv(file_path7)\n",
    "week48 = pd.read_csv(file_path8)\n",
    "week49 = pd.read_csv(file_path9)\n",
    "week50 = pd.read_csv(file_path10)\n",
    "week51 = pd.read_csv(file_path11)\n",
    "week52 = pd.read_csv(file_path12)"
   ]
  },
  {
   "cell_type": "code",
   "execution_count": 17,
   "id": "91a0ba74",
   "metadata": {},
   "outputs": [],
   "source": [
    "# Trim down dataframes to only the columns we're interested in\n",
    "week41_edit = week41[['SCRAM','REGION','ANXIOUS', 'WORRY', 'INTEREST', 'DOWN','EEDUC','RRACE','TBIRTH_YEAR','RHISPANIC','RRACE','EEDUC','MS','EGENID_BIRTH','GENID_DESCRIBE','SEXUAL_ORIENTATION','ANYWORK','WEEK','INCOME','TENURE','KIDS_LT5Y','KIDS_5_11Y','KIDS_12_17Y','EST_ST']].copy()\n",
    "week42_edit = week42[['SCRAM','REGION','ANXIOUS', 'WORRY', 'INTEREST', 'DOWN','EEDUC','RRACE','TBIRTH_YEAR','RHISPANIC','RRACE','EEDUC','MS','EGENID_BIRTH','GENID_DESCRIBE','SEXUAL_ORIENTATION','ANYWORK','WEEK','INCOME','TENURE','KIDS_LT5Y','KIDS_5_11Y','KIDS_12_17Y','EST_ST']].copy()\n",
    "week43_edit = week43[['SCRAM','REGION','ANXIOUS', 'WORRY', 'INTEREST', 'DOWN','EEDUC','RRACE','TBIRTH_YEAR','RHISPANIC','RRACE','EEDUC','MS','EGENID_BIRTH','GENID_DESCRIBE','SEXUAL_ORIENTATION','ANYWORK','WEEK','INCOME','TENURE','KIDS_LT5Y','KIDS_5_11Y','KIDS_12_17Y','EST_ST']].copy()\n",
    "week44_edit = week44[['SCRAM','REGION','ANXIOUS', 'WORRY', 'INTEREST', 'DOWN','EEDUC','RRACE','TBIRTH_YEAR','RHISPANIC','RRACE','EEDUC','MS','EGENID_BIRTH','GENID_DESCRIBE','SEXUAL_ORIENTATION','ANYWORK','WEEK','INCOME','TENURE','KIDS_LT5Y','KIDS_5_11Y','KIDS_12_17Y','EST_ST']].copy()\n",
    "week45_edit = week45[['SCRAM','REGION','ANXIOUS', 'WORRY', 'INTEREST', 'DOWN','EEDUC','RRACE','TBIRTH_YEAR','RHISPANIC','RRACE','EEDUC','MS','EGENID_BIRTH','GENID_DESCRIBE','SEXUAL_ORIENTATION','ANYWORK','WEEK','INCOME','TENURE','KIDS_LT5Y','KIDS_5_11Y','KIDS_12_17Y','EST_ST']].copy()\n",
    "week46_edit = week46[['SCRAM','REGION','ANXIOUS', 'WORRY', 'INTEREST', 'DOWN','EEDUC','RRACE','TBIRTH_YEAR','RHISPANIC','RRACE','EEDUC','MS','EGENID_BIRTH','GENID_DESCRIBE','SEXUAL_ORIENTATION','ANYWORK','WEEK','INCOME','TENURE','KIDS_LT5Y','KIDS_5_11Y','KIDS_12_17Y','EST_ST']].copy()\n",
    "week47_edit = week47[['SCRAM','REGION','ANXIOUS', 'WORRY', 'INTEREST', 'DOWN','EEDUC','RRACE','TBIRTH_YEAR','RHISPANIC','RRACE','EEDUC','MS','EGENID_BIRTH','GENID_DESCRIBE','SEXUAL_ORIENTATION','ANYWORK','WEEK','INCOME','TENURE','KIDS_LT5Y','KIDS_5_11Y','KIDS_12_17Y','EST_ST']].copy()\n",
    "week48_edit = week48[['SCRAM','REGION','ANXIOUS', 'WORRY', 'INTEREST', 'DOWN','EEDUC','RRACE','TBIRTH_YEAR','RHISPANIC','RRACE','EEDUC','MS','EGENID_BIRTH','GENID_DESCRIBE','SEXUAL_ORIENTATION','ANYWORK','WEEK','INCOME','TENURE','KIDS_LT5Y','KIDS_5_11Y','KIDS_12_17Y','EST_ST']].copy()\n",
    "week49_edit = week49[['SCRAM','REGION','ANXIOUS', 'WORRY', 'INTEREST', 'DOWN','EEDUC','RRACE','TBIRTH_YEAR','RHISPANIC','RRACE','EEDUC','MS','EGENID_BIRTH','GENID_DESCRIBE','SEXUAL_ORIENTATION','ANYWORK','WEEK','INCOME','TENURE','KIDS_LT5Y','KIDS_5_11Y','KIDS_12_17Y','EST_ST']].copy()\n",
    "week50_edit = week50[['SCRAM','REGION','ANXIOUS', 'WORRY', 'INTEREST', 'DOWN','EEDUC','RRACE','TBIRTH_YEAR','RHISPANIC','RRACE','EEDUC','MS','EGENID_BIRTH','GENID_DESCRIBE','SEXUAL_ORIENTATION','ANYWORK','WEEK','INCOME','TENURE','KIDS_LT5Y','KIDS_5_11Y','KIDS_12_17Y','EST_ST']].copy()\n",
    "week51_edit = week51[['SCRAM','REGION','ANXIOUS', 'WORRY', 'INTEREST', 'DOWN','EEDUC','RRACE','TBIRTH_YEAR','RHISPANIC','RRACE','EEDUC','MS','EGENID_BIRTH','GENID_DESCRIBE','SEXUAL_ORIENTATION','ANYWORK','WEEK','INCOME','TENURE','KIDS_LT5Y','KIDS_5_11Y','KIDS_12_17Y','EST_ST']].copy()\n",
    "week52_edit = week52[['SCRAM','REGION','ANXIOUS', 'WORRY', 'INTEREST', 'DOWN','EEDUC','RRACE','TBIRTH_YEAR','RHISPANIC','RRACE','EEDUC','MS','EGENID_BIRTH','GENID_DESCRIBE','SEXUAL_ORIENTATION','ANYWORK','WEEK','INCOME','TENURE','KIDS_LT5Y','KIDS_5_11Y','KIDS_12_17Y','EST_ST']].copy()"
   ]
  },
  {
   "cell_type": "code",
   "execution_count": 20,
   "id": "ce646251",
   "metadata": {},
   "outputs": [],
   "source": [
    "#write dataframes to csv's\n",
    "week41_edit.to_csv(file_path1)\n",
    "week42_edit.to_csv(file_path2)\n",
    "week43_edit.to_csv(file_path3)\n",
    "week44_edit.to_csv(file_path4)\n",
    "week45_edit.to_csv(file_path5)\n",
    "week46_edit.to_csv(file_path6)\n",
    "week47_edit.to_csv(file_path7)\n",
    "week48_edit.to_csv(file_path8)\n",
    "week49_edit.to_csv(file_path9)\n",
    "week50_edit.to_csv(file_path10)\n",
    "week51_edit.to_csv(file_path11)\n",
    "week52_edit.to_csv(file_path12)\n",
    "\n"
   ]
  },
  {
   "cell_type": "code",
   "execution_count": null,
   "id": "38f4a428",
   "metadata": {},
   "outputs": [],
   "source": []
  }
 ],
 "metadata": {
  "kernelspec": {
   "display_name": "PythonData",
   "language": "python",
   "name": "pythondata"
  },
  "language_info": {
   "codemirror_mode": {
    "name": "ipython",
    "version": 3
   },
   "file_extension": ".py",
   "mimetype": "text/x-python",
   "name": "python",
   "nbconvert_exporter": "python",
   "pygments_lexer": "ipython3",
   "version": "3.7.15"
  }
 },
 "nbformat": 4,
 "nbformat_minor": 5
}
