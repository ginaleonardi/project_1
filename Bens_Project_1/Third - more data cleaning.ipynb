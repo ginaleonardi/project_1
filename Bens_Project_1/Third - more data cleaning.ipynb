{
 "cells": [
  {
   "cell_type": "code",
   "execution_count": 1,
   "id": "a9f99daf",
   "metadata": {},
   "outputs": [],
   "source": [
    "import pandas as pd\n",
    "import os\n",
    "import numpy as np"
   ]
  },
  {
   "cell_type": "code",
   "execution_count": 2,
   "id": "f9e1953e",
   "metadata": {},
   "outputs": [],
   "source": [
    "# Read csv\n",
    "file_path = (\"/Users/spicious/Documents/GitHub/out.csv\")\n",
    "df = pd.read_csv(file_path)"
   ]
  },
  {
   "cell_type": "code",
   "execution_count": 3,
   "id": "4c5c5552",
   "metadata": {},
   "outputs": [],
   "source": [
    "# Get rid of weird column that showed up\n",
    "df = df.drop(['Unnamed: 0'], axis=1)"
   ]
  },
  {
   "cell_type": "code",
   "execution_count": 4,
   "id": "3ba40282",
   "metadata": {},
   "outputs": [],
   "source": [
    "# Change non-reported data to be less annoying\n",
    "df = df.replace([-88, -99], \"\")"
   ]
  },
  {
   "cell_type": "code",
   "execution_count": 5,
   "id": "ef6886e1",
   "metadata": {},
   "outputs": [],
   "source": [
    "#change objects to floats\n",
    "df['ANXIOUS'] = pd.to_numeric(df['ANXIOUS'], errors='coerce')\n",
    "df['WORRY'] = pd.to_numeric(df['WORRY'], errors='coerce')\n",
    "df['INTEREST'] = pd.to_numeric(df['INTEREST'], errors='coerce')\n",
    "df['DOWN'] = pd.to_numeric(df['DOWN'], errors='coerce')\n",
    "df['MS'] = pd.to_numeric(df['MS'], errors='coerce')\n",
    "df['GENID_DESCRIBE'] = pd.to_numeric(df['GENID_DESCRIBE'], errors='coerce')\n",
    "df['SEXUAL_ORIENTATION'] = pd.to_numeric(df['SEXUAL_ORIENTATION'], errors='coerce')\n",
    "df['ANYWORK'] = pd.to_numeric(df['ANYWORK'], errors='coerce')\n",
    "df['INCOME'] = pd.to_numeric(df['INCOME'], errors='coerce')\n",
    "df['TENURE'] = pd.to_numeric(df['TENURE'], errors='coerce')\n",
    "df['KIDS_LT5Y'] = pd.to_numeric(df['KIDS_LT5Y'], errors='coerce')\n",
    "df['KIDS_5_11Y'] = pd.to_numeric(df['KIDS_5_11Y'], errors='coerce')\n",
    "df['KIDS_12_17Y'] = pd.to_numeric(df['KIDS_12_17Y'], errors='coerce')"
   ]
  },
  {
   "cell_type": "code",
   "execution_count": 6,
   "id": "aeaa5ea4",
   "metadata": {},
   "outputs": [
    {
     "data": {
      "text/plain": [
       "SCRAM                  object\n",
       "REGION                  int64\n",
       "ANXIOUS               float64\n",
       "WORRY                 float64\n",
       "INTEREST              float64\n",
       "DOWN                  float64\n",
       "EEDUC                   int64\n",
       "RRACE                   int64\n",
       "TBIRTH_YEAR             int64\n",
       "RHISPANIC               int64\n",
       "RRACE.1                 int64\n",
       "EEDUC.1                 int64\n",
       "MS                    float64\n",
       "EGENID_BIRTH            int64\n",
       "GENID_DESCRIBE        float64\n",
       "SEXUAL_ORIENTATION    float64\n",
       "ANYWORK               float64\n",
       "WEEK                    int64\n",
       "INCOME                float64\n",
       "TENURE                float64\n",
       "KIDS_LT5Y             float64\n",
       "KIDS_5_11Y            float64\n",
       "KIDS_12_17Y           float64\n",
       "EST_ST                  int64\n",
       "dtype: object"
      ]
     },
     "execution_count": 6,
     "metadata": {},
     "output_type": "execute_result"
    }
   ],
   "source": [
    "#checking\n",
    "df.dtypes"
   ]
  },
  {
   "cell_type": "code",
   "execution_count": 7,
   "id": "253ab356",
   "metadata": {},
   "outputs": [],
   "source": [
    "# Replace week column with actual date survey was sent out\n",
    "df['WEEK'] = df['WEEK'].replace([41, 42, 43, 44, 45, 46, 47, 48, 49, 50, 51, 52, 53], ['2021-12-29', '2022-01-26', '2022-03-02', '2022-03-30', '2022-04-27', '2022-06-01', '2022-06-29', '2022-07-27', '2022-09-14', '2022-10-05', '2022-11-02', '2022-12-09', '2022-01-23'])"
   ]
  },
  {
   "cell_type": "code",
   "execution_count": 9,
   "id": "61fe9d23",
   "metadata": {},
   "outputs": [],
   "source": [
    "# Compress and save\n",
    "compression_opts = dict(method='zip',\n",
    "                        archive_name='clean_master_merge.csv')  \n",
    "df.to_csv('clean_master_merge.zip', index=False,\n",
    "          compression=compression_opts)  "
   ]
  }
 ],
 "metadata": {
  "kernelspec": {
   "display_name": "PythonData",
   "language": "python",
   "name": "pythondata"
  },
  "language_info": {
   "codemirror_mode": {
    "name": "ipython",
    "version": 3
   },
   "file_extension": ".py",
   "mimetype": "text/x-python",
   "name": "python",
   "nbconvert_exporter": "python",
   "pygments_lexer": "ipython3",
   "version": "3.7.15"
  }
 },
 "nbformat": 4,
 "nbformat_minor": 5
}
