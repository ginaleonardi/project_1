{
 "cells": [
  {
   "cell_type": "code",
   "execution_count": 1,
   "id": "1bb4b2ae",
   "metadata": {},
   "outputs": [],
   "source": [
    "import pandas as pd\n",
    "import os"
   ]
  },
  {
   "cell_type": "code",
   "execution_count": 2,
   "id": "0a0bb171",
   "metadata": {},
   "outputs": [],
   "source": [
    "#marking file paths\n",
    "file_path41 = ('/Users/spicious/Documents/GitHub/tests/PUFs copy/pulse2022_puf_41.csv')\n",
    "file_path42 = ('/Users/spicious/Documents/GitHub/tests/PUFs copy/pulse2022_puf_42.csv')\n",
    "file_path43 = ('/Users/spicious/Documents/GitHub/tests/PUFs copy/pulse2022_puf_43.csv')\n",
    "file_path44 = ('/Users/spicious/Documents/GitHub/tests/PUFs copy/pulse2022_puf_44.csv')\n",
    "file_path45 = ('/Users/spicious/Documents/GitHub/tests/PUFs copy/pulse2022_puf_45.csv')\n",
    "file_path46 = ('/Users/spicious/Documents/GitHub/tests/PUFs copy/pulse2022_puf_46.csv')\n",
    "file_path47 = ('/Users/spicious/Documents/GitHub/tests/PUFs copy/pulse2022_puf_47.csv')\n",
    "file_path48 = ('/Users/spicious/Documents/GitHub/tests/PUFs copy/pulse2022_puf_48.csv')\n",
    "file_path49 = ('/Users/spicious/Documents/GitHub/tests/PUFs copy/pulse2022_puf_49.csv')\n",
    "file_path50 = ('/Users/spicious/Documents/GitHub/tests/PUFs copy/pulse2022_puf_50.csv')\n",
    "file_path51 = ('/Users/spicious/Documents/GitHub/tests/PUFs copy/pulse2022_puf_51.csv')\n",
    "file_path52 = ('/Users/spicious/Documents/GitHub/tests/PUFs copy/pulse2022_puf_52.csv')"
   ]
  },
  {
   "cell_type": "code",
   "execution_count": 3,
   "id": "d429a2f1",
   "metadata": {},
   "outputs": [],
   "source": [
    "#reading csv's to dataframes\n",
    "df41 = pd.read_csv(file_path41)\n",
    "df42 = pd.read_csv(file_path42)\n",
    "df43 = pd.read_csv(file_path43)\n",
    "df44 = pd.read_csv(file_path44)\n",
    "df45 = pd.read_csv(file_path45)\n",
    "df46 = pd.read_csv(file_path46)\n",
    "df47 = pd.read_csv(file_path47)\n",
    "df48 = pd.read_csv(file_path48)\n",
    "df49 = pd.read_csv(file_path49)\n",
    "df50 = pd.read_csv(file_path50)\n",
    "df51 = pd.read_csv(file_path51)\n",
    "df52 = pd.read_csv(file_path52)"
   ]
  },
  {
   "cell_type": "code",
   "execution_count": 5,
   "id": "224a71ed",
   "metadata": {},
   "outputs": [],
   "source": [
    "#concatenating csv's\n",
    "lst = [df41, df42, df43, df44, df45, df46, df47, df48, df49, df50, df51, df52]  # List of your dataframes\n",
    "master_merge= pd.concat(lst)"
   ]
  },
  {
   "cell_type": "code",
   "execution_count": 8,
   "id": "1a005f28",
   "metadata": {},
   "outputs": [],
   "source": [
    "#compress and save csv\n",
    "compression_opts = dict(method='zip',\n",
    "                        archive_name='out.csv')  \n",
    "master_merge.to_csv('out.zip', index=False,\n",
    "          compression=compression_opts)  "
   ]
  }
 ],
 "metadata": {
  "kernelspec": {
   "display_name": "PythonData",
   "language": "python",
   "name": "pythondata"
  },
  "language_info": {
   "codemirror_mode": {
    "name": "ipython",
    "version": 3
   },
   "file_extension": ".py",
   "mimetype": "text/x-python",
   "name": "python",
   "nbconvert_exporter": "python",
   "pygments_lexer": "ipython3",
   "version": "3.7.15"
  }
 },
 "nbformat": 4,
 "nbformat_minor": 5
}
